{
 "cells": [
  {
   "cell_type": "code",
   "execution_count": 71,
   "id": "5438d50f",
   "metadata": {
    "scrolled": true
   },
   "outputs": [
    {
     "name": "stdout",
     "output_type": "stream",
     "text": [
      "Requirement already satisfied: matplotlib-venn in c:\\users\\dennis\\appdata\\local\\programs\\python\\python310\\lib\\site-packages (0.11.7)\n",
      "Requirement already satisfied: matplotlib in c:\\users\\dennis\\appdata\\local\\programs\\python\\python310\\lib\\site-packages (from matplotlib-venn) (3.5.2)\n",
      "Requirement already satisfied: numpy in c:\\users\\dennis\\appdata\\local\\programs\\python\\python310\\lib\\site-packages (from matplotlib-venn) (1.23.1)\n",
      "Requirement already satisfied: scipy in c:\\users\\dennis\\appdata\\local\\programs\\python\\python310\\lib\\site-packages (from matplotlib-venn) (1.9.0)\n",
      "Requirement already satisfied: pyparsing>=2.2.1 in c:\\users\\dennis\\appdata\\local\\programs\\python\\python310\\lib\\site-packages (from matplotlib->matplotlib-venn) (3.0.9)\n",
      "Requirement already satisfied: fonttools>=4.22.0 in c:\\users\\dennis\\appdata\\local\\programs\\python\\python310\\lib\\site-packages (from matplotlib->matplotlib-venn) (4.34.4)\n",
      "Requirement already satisfied: packaging>=20.0 in c:\\users\\dennis\\appdata\\local\\programs\\python\\python310\\lib\\site-packages (from matplotlib->matplotlib-venn) (21.3)\n",
      "Requirement already satisfied: python-dateutil>=2.7 in c:\\users\\dennis\\appdata\\local\\programs\\python\\python310\\lib\\site-packages (from matplotlib->matplotlib-venn) (2.8.2)\n",
      "Requirement already satisfied: kiwisolver>=1.0.1 in c:\\users\\dennis\\appdata\\local\\programs\\python\\python310\\lib\\site-packages (from matplotlib->matplotlib-venn) (1.4.4)\n",
      "Requirement already satisfied: cycler>=0.10 in c:\\users\\dennis\\appdata\\local\\programs\\python\\python310\\lib\\site-packages (from matplotlib->matplotlib-venn) (0.11.0)\n",
      "Requirement already satisfied: pillow>=6.2.0 in c:\\users\\dennis\\appdata\\local\\programs\\python\\python310\\lib\\site-packages (from matplotlib->matplotlib-venn) (9.2.0)\n",
      "Requirement already satisfied: six>=1.5 in c:\\users\\dennis\\appdata\\local\\programs\\python\\python310\\lib\\site-packages (from python-dateutil>=2.7->matplotlib->matplotlib-venn) (1.16.0)\n"
     ]
    },
    {
     "name": "stderr",
     "output_type": "stream",
     "text": [
      "WARNING: You are using pip version 22.0.4; however, version 22.2.1 is available.\n",
      "You should consider upgrading via the 'C:\\Users\\dennis\\AppData\\Local\\Programs\\Python\\Python310\\python.exe -m pip install --upgrade pip' command.\n"
     ]
    },
    {
     "name": "stdout",
     "output_type": "stream",
     "text": [
      "Requirement already satisfied: hvplot in c:\\users\\dennis\\appdata\\local\\programs\\python\\python310\\lib\\site-packages (0.8.0)\n",
      "Requirement already satisfied: holoviews in c:\\users\\dennis\\appdata\\local\\programs\\python\\python310\\lib\\site-packages (1.15.0)\n",
      "Requirement already satisfied: colorcet>=2 in c:\\users\\dennis\\appdata\\local\\programs\\python\\python310\\lib\\site-packages (from hvplot) (3.0.0)\n",
      "Requirement already satisfied: pandas in c:\\users\\dennis\\appdata\\local\\programs\\python\\python310\\lib\\site-packages (from hvplot) (1.4.3)\n",
      "Requirement already satisfied: bokeh>=1.0.0 in c:\\users\\dennis\\appdata\\local\\programs\\python\\python310\\lib\\site-packages (from hvplot) (2.4.3)\n",
      "Requirement already satisfied: packaging in c:\\users\\dennis\\appdata\\local\\programs\\python\\python310\\lib\\site-packages (from hvplot) (21.3)\n",
      "Requirement already satisfied: numpy>=1.15 in c:\\users\\dennis\\appdata\\local\\programs\\python\\python310\\lib\\site-packages (from hvplot) (1.23.1)\n",
      "Requirement already satisfied: pyviz-comms>=0.7.4 in c:\\users\\dennis\\appdata\\local\\programs\\python\\python310\\lib\\site-packages (from holoviews) (2.2.0)\n",
      "Requirement already satisfied: param<2.0,>=1.9.3 in c:\\users\\dennis\\appdata\\local\\programs\\python\\python310\\lib\\site-packages (from holoviews) (1.12.2)\n",
      "Requirement already satisfied: panel>=0.13.1 in c:\\users\\dennis\\appdata\\local\\programs\\python\\python310\\lib\\site-packages (from holoviews) (0.13.1)\n",
      "Requirement already satisfied: PyYAML>=3.10 in c:\\users\\dennis\\appdata\\local\\programs\\python\\python310\\lib\\site-packages (from bokeh>=1.0.0->hvplot) (6.0)\n",
      "Requirement already satisfied: pillow>=7.1.0 in c:\\users\\dennis\\appdata\\local\\programs\\python\\python310\\lib\\site-packages (from bokeh>=1.0.0->hvplot) (9.2.0)\n",
      "Requirement already satisfied: Jinja2>=2.9 in c:\\users\\dennis\\appdata\\local\\programs\\python\\python310\\lib\\site-packages (from bokeh>=1.0.0->hvplot) (3.1.2)\n",
      "Requirement already satisfied: typing-extensions>=3.10.0 in c:\\users\\dennis\\appdata\\local\\programs\\python\\python310\\lib\\site-packages (from bokeh>=1.0.0->hvplot) (4.3.0)\n",
      "Requirement already satisfied: tornado>=5.1 in c:\\users\\dennis\\appdata\\local\\programs\\python\\python310\\lib\\site-packages (from bokeh>=1.0.0->hvplot) (6.2)\n",
      "Requirement already satisfied: pyct>=0.4.4 in c:\\users\\dennis\\appdata\\local\\programs\\python\\python310\\lib\\site-packages (from colorcet>=2->hvplot) (0.4.8)\n",
      "Requirement already satisfied: pyparsing!=3.0.5,>=2.0.2 in c:\\users\\dennis\\appdata\\local\\programs\\python\\python310\\lib\\site-packages (from packaging->hvplot) (3.0.9)\n",
      "Requirement already satisfied: python-dateutil>=2.8.1 in c:\\users\\dennis\\appdata\\local\\programs\\python\\python310\\lib\\site-packages (from pandas->hvplot) (2.8.2)\n",
      "Requirement already satisfied: pytz>=2020.1 in c:\\users\\dennis\\appdata\\local\\programs\\python\\python310\\lib\\site-packages (from pandas->hvplot) (2022.1)\n",
      "Requirement already satisfied: setuptools in c:\\users\\dennis\\appdata\\local\\programs\\python\\python310\\lib\\site-packages (from panel>=0.13.1->holoviews) (58.1.0)\n",
      "Requirement already satisfied: requests in c:\\users\\dennis\\appdata\\local\\programs\\python\\python310\\lib\\site-packages (from panel>=0.13.1->holoviews) (2.28.1)\n",
      "Requirement already satisfied: markdown in c:\\users\\dennis\\appdata\\local\\programs\\python\\python310\\lib\\site-packages (from panel>=0.13.1->holoviews) (3.4.1)\n",
      "Requirement already satisfied: bleach in c:\\users\\dennis\\appdata\\local\\programs\\python\\python310\\lib\\site-packages (from panel>=0.13.1->holoviews) (5.0.1)\n",
      "Requirement already satisfied: tqdm>=4.48.0 in c:\\users\\dennis\\appdata\\local\\programs\\python\\python310\\lib\\site-packages (from panel>=0.13.1->holoviews) (4.64.0)\n",
      "Requirement already satisfied: MarkupSafe>=2.0 in c:\\users\\dennis\\appdata\\local\\programs\\python\\python310\\lib\\site-packages (from Jinja2>=2.9->bokeh>=1.0.0->hvplot) (2.1.1)\n",
      "Requirement already satisfied: six>=1.5 in c:\\users\\dennis\\appdata\\local\\programs\\python\\python310\\lib\\site-packages (from python-dateutil>=2.8.1->pandas->hvplot) (1.16.0)\n",
      "Requirement already satisfied: colorama in c:\\users\\dennis\\appdata\\local\\programs\\python\\python310\\lib\\site-packages (from tqdm>=4.48.0->panel>=0.13.1->holoviews) (0.4.5)\n",
      "Requirement already satisfied: webencodings in c:\\users\\dennis\\appdata\\local\\programs\\python\\python310\\lib\\site-packages (from bleach->panel>=0.13.1->holoviews) (0.5.1)\n",
      "Requirement already satisfied: charset-normalizer<3,>=2 in c:\\users\\dennis\\appdata\\local\\programs\\python\\python310\\lib\\site-packages (from requests->panel>=0.13.1->holoviews) (2.1.0)\n",
      "Requirement already satisfied: certifi>=2017.4.17 in c:\\users\\dennis\\appdata\\local\\programs\\python\\python310\\lib\\site-packages (from requests->panel>=0.13.1->holoviews) (2022.6.15)\n",
      "Requirement already satisfied: idna<4,>=2.5 in c:\\users\\dennis\\appdata\\local\\programs\\python\\python310\\lib\\site-packages (from requests->panel>=0.13.1->holoviews) (3.3)\n",
      "Requirement already satisfied: urllib3<1.27,>=1.21.1 in c:\\users\\dennis\\appdata\\local\\programs\\python\\python310\\lib\\site-packages (from requests->panel>=0.13.1->holoviews) (1.26.11)\n"
     ]
    },
    {
     "name": "stderr",
     "output_type": "stream",
     "text": [
      "WARNING: You are using pip version 22.0.4; however, version 22.2.1 is available.\n",
      "You should consider upgrading via the 'C:\\Users\\dennis\\AppData\\Local\\Programs\\Python\\Python310\\python.exe -m pip install --upgrade pip' command.\n"
     ]
    },
    {
     "name": "stdout",
     "output_type": "stream",
     "text": [
      "Requirement already satisfied: seaborn in c:\\users\\dennis\\appdata\\local\\programs\\python\\python310\\lib\\site-packages (0.11.2)\n",
      "Requirement already satisfied: numpy>=1.15 in c:\\users\\dennis\\appdata\\local\\programs\\python\\python310\\lib\\site-packages (from seaborn) (1.23.1)\n",
      "Requirement already satisfied: scipy>=1.0 in c:\\users\\dennis\\appdata\\local\\programs\\python\\python310\\lib\\site-packages (from seaborn) (1.9.0)\n",
      "Requirement already satisfied: pandas>=0.23 in c:\\users\\dennis\\appdata\\local\\programs\\python\\python310\\lib\\site-packages (from seaborn) (1.4.3)\n",
      "Requirement already satisfied: matplotlib>=2.2 in c:\\users\\dennis\\appdata\\local\\programs\\python\\python310\\lib\\site-packages (from seaborn) (3.5.2)\n",
      "Requirement already satisfied: python-dateutil>=2.7 in c:\\users\\dennis\\appdata\\local\\programs\\python\\python310\\lib\\site-packages (from matplotlib>=2.2->seaborn) (2.8.2)\n",
      "Requirement already satisfied: cycler>=0.10 in c:\\users\\dennis\\appdata\\local\\programs\\python\\python310\\lib\\site-packages (from matplotlib>=2.2->seaborn) (0.11.0)\n",
      "Requirement already satisfied: kiwisolver>=1.0.1 in c:\\users\\dennis\\appdata\\local\\programs\\python\\python310\\lib\\site-packages (from matplotlib>=2.2->seaborn) (1.4.4)\n",
      "Requirement already satisfied: pyparsing>=2.2.1 in c:\\users\\dennis\\appdata\\local\\programs\\python\\python310\\lib\\site-packages (from matplotlib>=2.2->seaborn) (3.0.9)\n",
      "Requirement already satisfied: fonttools>=4.22.0 in c:\\users\\dennis\\appdata\\local\\programs\\python\\python310\\lib\\site-packages (from matplotlib>=2.2->seaborn) (4.34.4)\n",
      "Requirement already satisfied: packaging>=20.0 in c:\\users\\dennis\\appdata\\local\\programs\\python\\python310\\lib\\site-packages (from matplotlib>=2.2->seaborn) (21.3)\n",
      "Requirement already satisfied: pillow>=6.2.0 in c:\\users\\dennis\\appdata\\local\\programs\\python\\python310\\lib\\site-packages (from matplotlib>=2.2->seaborn) (9.2.0)\n",
      "Requirement already satisfied: pytz>=2020.1 in c:\\users\\dennis\\appdata\\local\\programs\\python\\python310\\lib\\site-packages (from pandas>=0.23->seaborn) (2022.1)\n",
      "Requirement already satisfied: six>=1.5 in c:\\users\\dennis\\appdata\\local\\programs\\python\\python310\\lib\\site-packages (from python-dateutil>=2.7->matplotlib>=2.2->seaborn) (1.16.0)\n"
     ]
    },
    {
     "name": "stderr",
     "output_type": "stream",
     "text": [
      "WARNING: You are using pip version 22.0.4; however, version 22.2.1 is available.\n",
      "You should consider upgrading via the 'C:\\Users\\dennis\\AppData\\Local\\Programs\\Python\\Python310\\python.exe -m pip install --upgrade pip' command.\n"
     ]
    },
    {
     "name": "stdout",
     "output_type": "stream",
     "text": [
      "Requirement already satisfied: pandas in c:\\users\\dennis\\appdata\\local\\programs\\python\\python310\\lib\\site-packages (1.4.3)\n",
      "Requirement already satisfied: python-dateutil>=2.8.1 in c:\\users\\dennis\\appdata\\local\\programs\\python\\python310\\lib\\site-packages (from pandas) (2.8.2)\n",
      "Requirement already satisfied: numpy>=1.21.0 in c:\\users\\dennis\\appdata\\local\\programs\\python\\python310\\lib\\site-packages (from pandas) (1.23.1)\n",
      "Requirement already satisfied: pytz>=2020.1 in c:\\users\\dennis\\appdata\\local\\programs\\python\\python310\\lib\\site-packages (from pandas) (2022.1)\n",
      "Requirement already satisfied: six>=1.5 in c:\\users\\dennis\\appdata\\local\\programs\\python\\python310\\lib\\site-packages (from python-dateutil>=2.8.1->pandas) (1.16.0)\n"
     ]
    },
    {
     "name": "stderr",
     "output_type": "stream",
     "text": [
      "WARNING: You are using pip version 22.0.4; however, version 22.2.1 is available.\n",
      "You should consider upgrading via the 'C:\\Users\\dennis\\AppData\\Local\\Programs\\Python\\Python310\\python.exe -m pip install --upgrade pip' command.\n"
     ]
    },
    {
     "name": "stdout",
     "output_type": "stream",
     "text": [
      "Requirement already satisfied: openpyxl in c:\\users\\dennis\\appdata\\local\\programs\\python\\python310\\lib\\site-packages (3.0.10)\n",
      "Requirement already satisfied: et-xmlfile in c:\\users\\dennis\\appdata\\local\\programs\\python\\python310\\lib\\site-packages (from openpyxl) (1.1.0)\n"
     ]
    },
    {
     "name": "stderr",
     "output_type": "stream",
     "text": [
      "WARNING: You are using pip version 22.0.4; however, version 22.2.1 is available.\n",
      "You should consider upgrading via the 'C:\\Users\\dennis\\AppData\\Local\\Programs\\Python\\Python310\\python.exe -m pip install --upgrade pip' command.\n"
     ]
    },
    {
     "name": "stdout",
     "output_type": "stream",
     "text": [
      "Requirement already satisfied: sklearn in c:\\users\\dennis\\appdata\\local\\programs\\python\\python310\\lib\\site-packages (0.0)\n",
      "Requirement already satisfied: scikit-learn in c:\\users\\dennis\\appdata\\local\\programs\\python\\python310\\lib\\site-packages (from sklearn) (1.1.2)\n",
      "Requirement already satisfied: scipy>=1.3.2 in c:\\users\\dennis\\appdata\\local\\programs\\python\\python310\\lib\\site-packages (from scikit-learn->sklearn) (1.9.0)\n",
      "Requirement already satisfied: threadpoolctl>=2.0.0 in c:\\users\\dennis\\appdata\\local\\programs\\python\\python310\\lib\\site-packages (from scikit-learn->sklearn) (3.1.0)\n",
      "Requirement already satisfied: joblib>=1.0.0 in c:\\users\\dennis\\appdata\\local\\programs\\python\\python310\\lib\\site-packages (from scikit-learn->sklearn) (1.1.0)\n",
      "Requirement already satisfied: numpy>=1.17.3 in c:\\users\\dennis\\appdata\\local\\programs\\python\\python310\\lib\\site-packages (from scikit-learn->sklearn) (1.23.1)\n"
     ]
    },
    {
     "name": "stderr",
     "output_type": "stream",
     "text": [
      "WARNING: You are using pip version 22.0.4; however, version 22.2.1 is available.\n",
      "You should consider upgrading via the 'C:\\Users\\dennis\\AppData\\Local\\Programs\\Python\\Python310\\python.exe -m pip install --upgrade pip' command.\n"
     ]
    }
   ],
   "source": [
    "!py -m pip install matplotlib-venn\n",
    "!py -m pip install hvplot holoviews\n",
    "!py -m pip install seaborn\n",
    "!py -m pip install pandas\n",
    "!py -m pip install openpyxl\n",
    "!py -m pip install sklearn\n",
    "pd.options.mode.chained_assignment = None  # default='warn'"
   ]
  },
  {
   "cell_type": "code",
   "execution_count": 109,
   "id": "3680f7c4",
   "metadata": {},
   "outputs": [],
   "source": [
    "import pandas as pd\n",
    "import numpy as np\n",
    "import matplotlib.pyplot as plt\n",
    "import seaborn as sns\n",
    "import hvplot.pandas\n",
    "%matplotlib inline"
   ]
  },
  {
   "cell_type": "code",
   "execution_count": 110,
   "id": "c1402e6b",
   "metadata": {},
   "outputs": [
    {
     "data": {
      "text/html": [
       "<div>\n",
       "<style scoped>\n",
       "    .dataframe tbody tr th:only-of-type {\n",
       "        vertical-align: middle;\n",
       "    }\n",
       "\n",
       "    .dataframe tbody tr th {\n",
       "        vertical-align: top;\n",
       "    }\n",
       "\n",
       "    .dataframe thead th {\n",
       "        text-align: right;\n",
       "    }\n",
       "</style>\n",
       "<table border=\"1\" class=\"dataframe\">\n",
       "  <thead>\n",
       "    <tr style=\"text-align: right;\">\n",
       "      <th></th>\n",
       "      <th>Productos</th>\n",
       "      <th>Total</th>\n",
       "    </tr>\n",
       "  </thead>\n",
       "  <tbody>\n",
       "    <tr>\n",
       "      <th>0</th>\n",
       "      <td>[DESK0005]</td>\n",
       "      <td>1</td>\n",
       "    </tr>\n",
       "    <tr>\n",
       "      <th>1</th>\n",
       "      <td>julio 2022</td>\n",
       "      <td>1</td>\n",
       "    </tr>\n",
       "    <tr>\n",
       "      <th>2</th>\n",
       "      <td>[E-COM06]</td>\n",
       "      <td>10</td>\n",
       "    </tr>\n",
       "    <tr>\n",
       "      <th>3</th>\n",
       "      <td>julio 2022</td>\n",
       "      <td>10</td>\n",
       "    </tr>\n",
       "    <tr>\n",
       "      <th>4</th>\n",
       "      <td>[E-COM07]</td>\n",
       "      <td>2</td>\n",
       "    </tr>\n",
       "    <tr>\n",
       "      <th>5</th>\n",
       "      <td>julio 2022</td>\n",
       "      <td>1</td>\n",
       "    </tr>\n",
       "    <tr>\n",
       "      <th>6</th>\n",
       "      <td>agosto 2022</td>\n",
       "      <td>1</td>\n",
       "    </tr>\n",
       "    <tr>\n",
       "      <th>7</th>\n",
       "      <td>[E-COM10]</td>\n",
       "      <td>1</td>\n",
       "    </tr>\n",
       "    <tr>\n",
       "      <th>8</th>\n",
       "      <td>julio 2022</td>\n",
       "      <td>1</td>\n",
       "    </tr>\n",
       "    <tr>\n",
       "      <th>9</th>\n",
       "      <td>[E-COM11]</td>\n",
       "      <td>15</td>\n",
       "    </tr>\n",
       "    <tr>\n",
       "      <th>10</th>\n",
       "      <td>julio 2022</td>\n",
       "      <td>15</td>\n",
       "    </tr>\n",
       "    <tr>\n",
       "      <th>11</th>\n",
       "      <td>[FURN_0096]</td>\n",
       "      <td>1</td>\n",
       "    </tr>\n",
       "    <tr>\n",
       "      <th>12</th>\n",
       "      <td>julio 2022</td>\n",
       "      <td>1</td>\n",
       "    </tr>\n",
       "    <tr>\n",
       "      <th>13</th>\n",
       "      <td>[FURN_0269]</td>\n",
       "      <td>27</td>\n",
       "    </tr>\n",
       "    <tr>\n",
       "      <th>14</th>\n",
       "      <td>junio 2022</td>\n",
       "      <td>4</td>\n",
       "    </tr>\n",
       "    <tr>\n",
       "      <th>15</th>\n",
       "      <td>julio 2022</td>\n",
       "      <td>23</td>\n",
       "    </tr>\n",
       "    <tr>\n",
       "      <th>16</th>\n",
       "      <td>[FURN_6666]</td>\n",
       "      <td>53</td>\n",
       "    </tr>\n",
       "    <tr>\n",
       "      <th>17</th>\n",
       "      <td>junio 2022</td>\n",
       "      <td>10</td>\n",
       "    </tr>\n",
       "    <tr>\n",
       "      <th>18</th>\n",
       "      <td>julio 2022</td>\n",
       "      <td>43</td>\n",
       "    </tr>\n",
       "    <tr>\n",
       "      <th>19</th>\n",
       "      <td>[FURN_6741]</td>\n",
       "      <td>3</td>\n",
       "    </tr>\n",
       "    <tr>\n",
       "      <th>20</th>\n",
       "      <td>julio 2022</td>\n",
       "      <td>3</td>\n",
       "    </tr>\n",
       "    <tr>\n",
       "      <th>21</th>\n",
       "      <td>[FURN_7777]</td>\n",
       "      <td>9</td>\n",
       "    </tr>\n",
       "    <tr>\n",
       "      <th>22</th>\n",
       "      <td>junio 2022</td>\n",
       "      <td>4</td>\n",
       "    </tr>\n",
       "    <tr>\n",
       "      <th>23</th>\n",
       "      <td>julio 2022</td>\n",
       "      <td>4</td>\n",
       "    </tr>\n",
       "    <tr>\n",
       "      <th>24</th>\n",
       "      <td>agosto 2022</td>\n",
       "      <td>1</td>\n",
       "    </tr>\n",
       "    <tr>\n",
       "      <th>25</th>\n",
       "      <td>[FURN_8855]</td>\n",
       "      <td>5</td>\n",
       "    </tr>\n",
       "    <tr>\n",
       "      <th>26</th>\n",
       "      <td>julio 2022</td>\n",
       "      <td>5</td>\n",
       "    </tr>\n",
       "    <tr>\n",
       "      <th>27</th>\n",
       "      <td>[FURN_8888]</td>\n",
       "      <td>22</td>\n",
       "    </tr>\n",
       "    <tr>\n",
       "      <th>28</th>\n",
       "      <td>junio 2022</td>\n",
       "      <td>11</td>\n",
       "    </tr>\n",
       "    <tr>\n",
       "      <th>29</th>\n",
       "      <td>julio 2022</td>\n",
       "      <td>11</td>\n",
       "    </tr>\n",
       "    <tr>\n",
       "      <th>30</th>\n",
       "      <td>[FURN_8999]</td>\n",
       "      <td>1</td>\n",
       "    </tr>\n",
       "    <tr>\n",
       "      <th>31</th>\n",
       "      <td>julio 2022</td>\n",
       "      <td>1</td>\n",
       "    </tr>\n",
       "    <tr>\n",
       "      <th>32</th>\n",
       "      <td>Diseño interior virtual</td>\n",
       "      <td>74</td>\n",
       "    </tr>\n",
       "    <tr>\n",
       "      <th>33</th>\n",
       "      <td>junio 2022</td>\n",
       "      <td>48</td>\n",
       "    </tr>\n",
       "    <tr>\n",
       "      <th>34</th>\n",
       "      <td>julio 2022</td>\n",
       "      <td>26</td>\n",
       "    </tr>\n",
       "    <tr>\n",
       "      <th>35</th>\n",
       "      <td>Área de casa virtual</td>\n",
       "      <td>60</td>\n",
       "    </tr>\n",
       "    <tr>\n",
       "      <th>36</th>\n",
       "      <td>junio 2022</td>\n",
       "      <td>60</td>\n",
       "    </tr>\n",
       "  </tbody>\n",
       "</table>\n",
       "</div>"
      ],
      "text/plain": [
       "                  Productos  Total\n",
       "0                [DESK0005]      1\n",
       "1                julio 2022      1\n",
       "2                 [E-COM06]     10\n",
       "3                julio 2022     10\n",
       "4                 [E-COM07]      2\n",
       "5                julio 2022      1\n",
       "6               agosto 2022      1\n",
       "7                 [E-COM10]      1\n",
       "8                julio 2022      1\n",
       "9                 [E-COM11]     15\n",
       "10               julio 2022     15\n",
       "11              [FURN_0096]      1\n",
       "12               julio 2022      1\n",
       "13              [FURN_0269]     27\n",
       "14               junio 2022      4\n",
       "15               julio 2022     23\n",
       "16              [FURN_6666]     53\n",
       "17               junio 2022     10\n",
       "18               julio 2022     43\n",
       "19              [FURN_6741]      3\n",
       "20               julio 2022      3\n",
       "21              [FURN_7777]      9\n",
       "22               junio 2022      4\n",
       "23               julio 2022      4\n",
       "24              agosto 2022      1\n",
       "25              [FURN_8855]      5\n",
       "26               julio 2022      5\n",
       "27              [FURN_8888]     22\n",
       "28               junio 2022     11\n",
       "29               julio 2022     11\n",
       "30              [FURN_8999]      1\n",
       "31               julio 2022      1\n",
       "32  Diseño interior virtual     74\n",
       "33               junio 2022     48\n",
       "34               julio 2022     26\n",
       "35     Área de casa virtual     60\n",
       "36               junio 2022     60"
      ]
     },
     "execution_count": 110,
     "metadata": {},
     "output_type": "execute_result"
    }
   ],
   "source": [
    "path = 'reportes_odoo/reporte.xlsx'\n",
    "sheet_name='Análisis de ventas'\n",
    "df = pd.read_excel(path, sheet_name, header = 2)\n",
    "\n",
    "# TRATAMIENTO DE DATOS\n",
    "\n",
    "df.columns = ['Productos', 'Total']\n",
    "\n",
    "# borra espacios vacios en los string de productos\n",
    "df['Productos'] = df['Productos'].str.strip()\n",
    "\n",
    "# cambiar nombre de producto por su codigo\n",
    "for i in df.index:\n",
    "    \n",
    "    if( df['Productos'][i][0] == \"[\" ):\n",
    "        indice_i = df['Productos'][i].index('[')\n",
    "        indice_f = df['Productos'][i].index(']')\n",
    "        df['Productos'][i] = df['Productos'][i][indice_i:indice_f + 1]\n",
    "        \n",
    "df"
   ]
  },
  {
   "cell_type": "code",
   "execution_count": 111,
   "id": "14c6e23b",
   "metadata": {},
   "outputs": [
    {
     "data": {
      "text/html": [
       "<div>\n",
       "<style scoped>\n",
       "    .dataframe tbody tr th:only-of-type {\n",
       "        vertical-align: middle;\n",
       "    }\n",
       "\n",
       "    .dataframe tbody tr th {\n",
       "        vertical-align: top;\n",
       "    }\n",
       "\n",
       "    .dataframe thead th {\n",
       "        text-align: right;\n",
       "    }\n",
       "</style>\n",
       "<table border=\"1\" class=\"dataframe\">\n",
       "  <thead>\n",
       "    <tr style=\"text-align: right;\">\n",
       "      <th></th>\n",
       "      <th>Periodo</th>\n",
       "      <th>Total</th>\n",
       "    </tr>\n",
       "  </thead>\n",
       "  <tbody>\n",
       "    <tr>\n",
       "      <th>22</th>\n",
       "      <td>junio 2022</td>\n",
       "      <td>4</td>\n",
       "    </tr>\n",
       "    <tr>\n",
       "      <th>23</th>\n",
       "      <td>julio 2022</td>\n",
       "      <td>4</td>\n",
       "    </tr>\n",
       "    <tr>\n",
       "      <th>24</th>\n",
       "      <td>agosto 2022</td>\n",
       "      <td>1</td>\n",
       "    </tr>\n",
       "  </tbody>\n",
       "</table>\n",
       "</div>"
      ],
      "text/plain": [
       "        Periodo  Total\n",
       "22   junio 2022      4\n",
       "23   julio 2022      4\n",
       "24  agosto 2022      1"
      ]
     },
     "execution_count": 111,
     "metadata": {},
     "output_type": "execute_result"
    }
   ],
   "source": [
    "# devuelve el indice de la primera aparicion de un producto a partir de una posicion \n",
    "def indice_producto(pos_ini = 0):\n",
    "    \n",
    "    size_df = len(df.index)\n",
    "    \n",
    "    if(pos_ini < (size_df - 1)):\n",
    "        for i in range(pos_ini, size_df):\n",
    "            if df['Productos'][i][0] == '[':\n",
    "                return i\n",
    "        return (size_df)\n",
    "    return -1\n",
    "\n",
    "# crea el dataframe para un producto específico según su código\n",
    "def crear_df_producto(producto): \n",
    "    \n",
    "    pos_ini = pos_fin = count = 0\n",
    "    \n",
    "    for i in df.index:\n",
    "        if(df['Productos'][i] == producto):\n",
    "            pos_ini = i\n",
    "            pos_fin = indice_producto(pos_ini+1)\n",
    "            \n",
    "    if(pos_fin != -1):\n",
    "        df_copy = df.iloc[pos_ini+1:pos_fin]\n",
    "        df_copy = df_copy.rename(columns = {'Productos':'Periodo'})\n",
    "        return df_copy\n",
    "\n",
    "# llamada para crear el dataframe de ventas para un producto por su código\n",
    "df_prod = crear_df_producto('[FURN_7777]')\n",
    "df_prod"
   ]
  },
  {
   "cell_type": "code",
   "execution_count": 112,
   "id": "2b33936c",
   "metadata": {},
   "outputs": [
    {
     "data": {
      "text/html": [
       "<div>\n",
       "<style scoped>\n",
       "    .dataframe tbody tr th:only-of-type {\n",
       "        vertical-align: middle;\n",
       "    }\n",
       "\n",
       "    .dataframe tbody tr th {\n",
       "        vertical-align: top;\n",
       "    }\n",
       "\n",
       "    .dataframe thead th {\n",
       "        text-align: right;\n",
       "    }\n",
       "</style>\n",
       "<table border=\"1\" class=\"dataframe\">\n",
       "  <thead>\n",
       "    <tr style=\"text-align: right;\">\n",
       "      <th></th>\n",
       "      <th>Periodo</th>\n",
       "      <th>Total</th>\n",
       "    </tr>\n",
       "  </thead>\n",
       "  <tbody>\n",
       "    <tr>\n",
       "      <th>22</th>\n",
       "      <td>1</td>\n",
       "      <td>4</td>\n",
       "    </tr>\n",
       "    <tr>\n",
       "      <th>23</th>\n",
       "      <td>2</td>\n",
       "      <td>4</td>\n",
       "    </tr>\n",
       "    <tr>\n",
       "      <th>24</th>\n",
       "      <td>3</td>\n",
       "      <td>1</td>\n",
       "    </tr>\n",
       "  </tbody>\n",
       "</table>\n",
       "</div>"
      ],
      "text/plain": [
       "   Periodo  Total\n",
       "22       1      4\n",
       "23       2      4\n",
       "24       3      1"
      ]
     },
     "execution_count": 112,
     "metadata": {},
     "output_type": "execute_result"
    }
   ],
   "source": [
    "# conversion variables categoricas de período a numericas\n",
    "cont = 1\n",
    "for i in df_prod.index:\n",
    "    df_prod['Periodo'][i] = cont\n",
    "    cont += 1\n",
    "df_prod"
   ]
  },
  {
   "cell_type": "code",
   "execution_count": 113,
   "id": "b5126ca5",
   "metadata": {},
   "outputs": [],
   "source": [
    "#from sklearn.model_selection import train_test_split\n",
    "\n",
    "X=df_prod[['Periodo']]\n",
    "y=df_prod['Total']\n",
    "reg = LinearRegression().fit(X.values, y)"
   ]
  },
  {
   "cell_type": "code",
   "execution_count": 114,
   "id": "42b7560c",
   "metadata": {},
   "outputs": [
    {
     "data": {
      "text/plain": [
       "22    4\n",
       "23    4\n",
       "24    1\n",
       "Name: Total, dtype: int64"
      ]
     },
     "execution_count": 114,
     "metadata": {},
     "output_type": "execute_result"
    }
   ],
   "source": [
    "y"
   ]
  },
  {
   "cell_type": "code",
   "execution_count": 115,
   "id": "a9f7959a",
   "metadata": {},
   "outputs": [
    {
     "data": {
      "text/plain": [
       "0.75"
      ]
     },
     "execution_count": 115,
     "metadata": {},
     "output_type": "execute_result"
    }
   ],
   "source": [
    "reg.score(X.values, y)"
   ]
  },
  {
   "cell_type": "code",
   "execution_count": 116,
   "id": "9fce09a5",
   "metadata": {},
   "outputs": [
    {
     "data": {
      "text/plain": [
       "array([-1.5])"
      ]
     },
     "execution_count": 116,
     "metadata": {},
     "output_type": "execute_result"
    }
   ],
   "source": [
    "reg.coef_"
   ]
  },
  {
   "cell_type": "code",
   "execution_count": 117,
   "id": "ec409228",
   "metadata": {},
   "outputs": [
    {
     "data": {
      "text/plain": [
       "6.0"
      ]
     },
     "execution_count": 117,
     "metadata": {},
     "output_type": "execute_result"
    }
   ],
   "source": [
    "reg.intercept_"
   ]
  },
  {
   "cell_type": "code",
   "execution_count": 118,
   "id": "48512b26",
   "metadata": {},
   "outputs": [],
   "source": [
    "reg_pred = reg.predict(X.values)"
   ]
  },
  {
   "cell_type": "code",
   "execution_count": 119,
   "id": "7e7f1889",
   "metadata": {},
   "outputs": [
    {
     "data": {
      "text/plain": [
       "array([8.8817842e-16])"
      ]
     },
     "execution_count": 119,
     "metadata": {},
     "output_type": "execute_result"
    }
   ],
   "source": [
    "reg.predict([[4]]) # prediccion con un valor arbitrario"
   ]
  },
  {
   "cell_type": "code",
   "execution_count": 120,
   "id": "060fbfe5",
   "metadata": {},
   "outputs": [
    {
     "data": {
      "text/plain": [
       "[<matplotlib.lines.Line2D at 0x1e9ae271810>]"
      ]
     },
     "execution_count": 120,
     "metadata": {},
     "output_type": "execute_result"
    },
    {
     "data": {
      "image/png": "[encoded data removed]",
      "text/plain": [
       "<Figure size 432x288 with 1 Axes>"
      ]
     },
     "metadata": {
      "needs_background": "light"
     },
     "output_type": "display_data"
    }
   ],
   "source": [
    "plt.scatter(X, y, color=\"black\")\n",
    "plt.plot(X, reg_pred, color=\"blue\", linewidth=3)"
   ]
  },
  {
   "cell_type": "code",
   "execution_count": null,
   "id": "6c5213b7",
   "metadata": {},
   "outputs": [],
   "source": []
  }
 ],
 "metadata": {
  "kernelspec": {
   "display_name": "Python 3 (ipykernel)",
   "language": "python",
   "name": "python3"
  },
  "language_info": {
   "codemirror_mode": {
    "name": "ipython",
    "version": 3
   },
   "file_extension": ".py",
   "mimetype": "text/x-python",
   "name": "python",
   "nbconvert_exporter": "python",
   "pygments_lexer": "ipython3",
   "version": "3.10.5"
  }
 },
 "nbformat": 4,
 "nbformat_minor": 5
}
